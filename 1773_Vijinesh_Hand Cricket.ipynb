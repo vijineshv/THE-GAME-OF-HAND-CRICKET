{
 "cells": [
  {
   "cell_type": "code",
   "execution_count": 8,
   "id": "21e2cd7a-7b98-45ef-b978-ca5030d1d96d",
   "metadata": {},
   "outputs": [
    {
     "name": "stdout",
     "output_type": "stream",
     "text": [
      "Welcome to the hand cricket game in Python!\n"
     ]
    },
    {
     "name": "stdin",
     "output_type": "stream",
     "text": [
      "Please enter your name:  VIJINESH\n",
      "Enter any number between 1 to 10:  4\n"
     ]
    },
    {
     "name": "stdout",
     "output_type": "stream",
     "text": [
      "Input of AI: 3\n"
     ]
    },
    {
     "name": "stdin",
     "output_type": "stream",
     "text": [
      "Enter ODD or EVEN:  EVEN\n"
     ]
    },
    {
     "name": "stdout",
     "output_type": "stream",
     "text": [
      "AI wins the toss.\n",
      "AI is going to bat first.\n",
      "You are going to bowl first.\n"
     ]
    },
    {
     "name": "stdin",
     "output_type": "stream",
     "text": [
      "Ball (enter number 1-10):  3\n"
     ]
    },
    {
     "name": "stdout",
     "output_type": "stream",
     "text": [
      "AI bat: 1\n",
      "Current score of AI is: 1\n"
     ]
    },
    {
     "name": "stdin",
     "output_type": "stream",
     "text": [
      "Ball (enter number 1-10):  1\n"
     ]
    },
    {
     "name": "stdout",
     "output_type": "stream",
     "text": [
      "AI bat: 2\n",
      "Current score of AI is: 3\n"
     ]
    },
    {
     "name": "stdin",
     "output_type": "stream",
     "text": [
      "Ball (enter number 1-10):  3\n"
     ]
    },
    {
     "name": "stdout",
     "output_type": "stream",
     "text": [
      "AI bat: 4\n",
      "Current score of AI is: 7\n"
     ]
    },
    {
     "name": "stdin",
     "output_type": "stream",
     "text": [
      "Ball (enter number 1-10):  6\n"
     ]
    },
    {
     "name": "stdout",
     "output_type": "stream",
     "text": [
      "AI bat: 8\n",
      "Current score of AI is: 15\n"
     ]
    },
    {
     "name": "stdin",
     "output_type": "stream",
     "text": [
      "Ball (enter number 1-10):  10\n"
     ]
    },
    {
     "name": "stdout",
     "output_type": "stream",
     "text": [
      "AI bat: 2\n",
      "Current score of AI is: 17\n"
     ]
    },
    {
     "name": "stdin",
     "output_type": "stream",
     "text": [
      "Ball (enter number 1-10):  1\n"
     ]
    },
    {
     "name": "stdout",
     "output_type": "stream",
     "text": [
      "AI bat: 2\n",
      "Current score of AI is: 19\n"
     ]
    },
    {
     "name": "stdin",
     "output_type": "stream",
     "text": [
      "Ball (enter number 1-10):  3\n"
     ]
    },
    {
     "name": "stdout",
     "output_type": "stream",
     "text": [
      "AI bat: 2\n",
      "Current score of AI is: 21\n"
     ]
    },
    {
     "name": "stdin",
     "output_type": "stream",
     "text": [
      "Ball (enter number 1-10):  1\n"
     ]
    },
    {
     "name": "stdout",
     "output_type": "stream",
     "text": [
      "AI bat: 1\n",
      "Current score of AI is: 22\n",
      "AI took your wicket!\n",
      "You need 23 runs to win the match.\n"
     ]
    },
    {
     "name": "stdin",
     "output_type": "stream",
     "text": [
      "Bat (enter number 1-10):  3\n"
     ]
    },
    {
     "name": "stdout",
     "output_type": "stream",
     "text": [
      "AI ball: 4\n",
      "Your current score is: 3\n"
     ]
    },
    {
     "name": "stdin",
     "output_type": "stream",
     "text": [
      "Bat (enter number 1-10):  9\n"
     ]
    },
    {
     "name": "stdout",
     "output_type": "stream",
     "text": [
      "AI ball: 2\n",
      "Your current score is: 12\n"
     ]
    },
    {
     "name": "stdin",
     "output_type": "stream",
     "text": [
      "Bat (enter number 1-10):  10\n"
     ]
    },
    {
     "name": "stdout",
     "output_type": "stream",
     "text": [
      "AI ball: 5\n",
      "Your current score is: 22\n"
     ]
    },
    {
     "name": "stdin",
     "output_type": "stream",
     "text": [
      "Bat (enter number 1-10):  5\n"
     ]
    },
    {
     "name": "stdout",
     "output_type": "stream",
     "text": [
      "AI ball: 6\n",
      "Your current score is: 27\n",
      "You won the match by 5 runs!\n"
     ]
    }
   ],
   "source": [
    "import random\n",
    "\n",
    "def firstbatting():\n",
    "    print(\"You are going to bat first.\")\n",
    "    runs = 0\n",
    "    airuns = 0\n",
    "    while True:\n",
    "        me = int(input(\"Bat (enter number 1-10): \"))\n",
    "        AI = random.randint(1, 10)\n",
    "        print(\"AI ball:\", AI)\n",
    "        runs += me\n",
    "        print(\"Your current score is:\", runs)\n",
    "\n",
    "        if me == AI:\n",
    "            print(\"AI took your wicket\")\n",
    "            print(\"AI is going to bat. AI needs\", runs + 1, \"runs to win the match.\")\n",
    "            while True:\n",
    "                me = int(input(\"Ball (enter number 1-10): \"))\n",
    "                AI = random.randint(1, 10)\n",
    "                print(\"AI bat:\", AI)\n",
    "                airuns += AI\n",
    "                print(\"Current score of AI is:\", airuns)\n",
    "\n",
    "                if airuns > runs:\n",
    "                    print(\"Good try, but AI won the match by\", airuns - runs, \"runs. Better luck next time!\")\n",
    "                    return \n",
    "                elif me == AI:\n",
    "                    print(\"You successfully took the wicket of AI!\")\n",
    "                    print(\"You won the match by\", runs - airuns, \"runs!\")\n",
    "                    return \n",
    "\n",
    "def firstballing():\n",
    "    print(\"You are going to bowl first.\")\n",
    "    runs = 0\n",
    "    airuns = 0\n",
    "    while True:\n",
    "        me = int(input(\"Ball (enter number 1-10): \"))\n",
    "        AI = random.randint(1, 10)\n",
    "        print(\"AI bat:\", AI)\n",
    "        airuns += AI\n",
    "        print(\"Current score of AI is:\", airuns)\n",
    "\n",
    "        if me == AI:\n",
    "            print(\"AI took your wicket!\")\n",
    "            print(\"You need\", airuns + 1, \"runs to win the match.\")\n",
    "            while True:\n",
    "                me = int(input(\"Bat (enter number 1-10): \"))\n",
    "                AI = random.randint(1, 10)\n",
    "                print(\"AI ball:\", AI)\n",
    "                runs += me\n",
    "                print(\"Your current score is:\", runs)\n",
    "\n",
    "                if runs > airuns:\n",
    "                    print(\"You won the match by\", runs - airuns, \"runs!\")\n",
    "                    return  \n",
    "                elif me == AI:\n",
    "                    print(\"AI successfully took your wicket!\")\n",
    "                    print(\"AI won the match by\", airuns - runs, \"runs.\")\n",
    "                    return  \n",
    "\n",
    "print(\"Welcome to the hand cricket game in Python!\")\n",
    "name = input(\"Please enter your name: \")\n",
    "\n",
    "while True:\n",
    "    me = int(input(\"Enter any number between 1 to 10: \"))\n",
    "    if 1 <= me <= 10:\n",
    "        break\n",
    "    print(\"Invalid input. Please enter a number between 1 and 10.\")\n",
    "\n",
    "AI = random.randint(1, 10)\n",
    "print(\"Input of AI:\", AI)\n",
    "\n",
    "toss = input(\"Enter ODD or EVEN: \").upper()\n",
    "\n",
    "if (me + AI) % 2 == (0 if toss == \"EVEN\" else 1):\n",
    "    print(\"You won the toss, Choose to BAT or BALL:\")\n",
    "    tossinput = input(\"BAT or BALL: \").upper()\n",
    "    if tossinput == \"BAT\":\n",
    "        firstbatting()\n",
    "    elif tossinput == \"BALL\":\n",
    "        firstballing()\n",
    "    else:\n",
    "        print(\"Invalid input.\")\n",
    "else:\n",
    "    print(\"AI wins the toss.\")\n",
    "    AItoss = random.choice([\"BAT\", \"BALL\"])\n",
    "    if AItoss == \"BAT\":\n",
    "        print(\"AI is going to bat first.\")\n",
    "        firstballing()\n",
    "    else:\n",
    "        print(\"AI is going to bowl first.\")\n",
    "        firstbatting()\n"
   ]
  },
  {
   "cell_type": "code",
   "execution_count": null,
   "id": "443a950a-e43e-42fa-8805-c8ef7c177725",
   "metadata": {},
   "outputs": [],
   "source": []
  },
  {
   "cell_type": "code",
   "execution_count": null,
   "id": "48f27bd2-fce0-4962-972e-028fb1e8a091",
   "metadata": {},
   "outputs": [],
   "source": []
  }
 ],
 "metadata": {
  "kernelspec": {
   "display_name": "Python 3 (ipykernel)",
   "language": "python",
   "name": "python3"
  },
  "language_info": {
   "codemirror_mode": {
    "name": "ipython",
    "version": 3
   },
   "file_extension": ".py",
   "mimetype": "text/x-python",
   "name": "python",
   "nbconvert_exporter": "python",
   "pygments_lexer": "ipython3",
   "version": "3.12.4"
  }
 },
 "nbformat": 4,
 "nbformat_minor": 5
}
